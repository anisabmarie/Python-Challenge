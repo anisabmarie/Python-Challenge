{
 "cells": [
  {
   "cell_type": "code",
   "execution_count": 77,
   "id": "3b4a4fa7-52de-411d-84bf-7fc24a4606bf",
   "metadata": {},
   "outputs": [],
   "source": [
    "import os\n",
    "import csv"
   ]
  },
  {
   "cell_type": "code",
   "execution_count": 78,
   "id": "9cbe709d-9a1d-42b4-9307-1335085f3e98",
   "metadata": {},
   "outputs": [],
   "source": [
    "find_path = ('/Users/anisabraun/Downloads/budget_data.csv')\n",
    "output_file = \"budget_data.csv\""
   ]
  },
  {
   "cell_type": "code",
   "execution_count": 83,
   "id": "f773a744-f341-4e58-b6ca-33d6f78818e1",
   "metadata": {},
   "outputs": [],
   "source": [
    "with open('/Users/anisabraun/Downloads/budget_data.csv') as csv_file:\n",
    "   \n",
    "    csv_reader = csv.reader(csv_file, delimiter=',')\n",
    "    csv_header = next(csv_reader)\n",
    "    \n",
    "    total_months = 0\n",
    "    total = 0\n",
    "    second_row = 0\n",
    "    first_row = 0\n",
    "    month_change = 0\n",
    "    total_month_change = []\n",
    "    date = []\n",
    "    \n",
    "    for row in csv_reader:\n",
    "        total_months += 1\n",
    "        first_row = int(row[1])\n",
    "        total += int(row[1])\n",
    "        \n",
    "        if (total_months==1):\n",
    "            second_row = first_row\n",
    "            \n",
    "        else:\n",
    "                month_change = first_row - second_row\n",
    "                date.append(row[0])\n",
    "                total_month_change.append(month_change)\n",
    "                second_row = first_row\n",
    "                average = round(sum(total_month_change)/(total_months - 1), 2)"
   ]
  },
  {
   "cell_type": "code",
   "execution_count": 86,
   "id": "2ff5e48b-22c4-4681-9157-7b82d1559e15",
   "metadata": {},
   "outputs": [],
   "source": [
    "# The greatest increase and decrease in profits (date and amount) over the entire period\n",
    "greatest_increase = max(total_month_change)\n",
    "greatest_decrease = min(total_month_change)\n",
    "        \n",
    "increase_date = date[total_month_change.index(greatest_increase)]\n",
    "decrease_date = date[total_month_change.index(greatest_decrease)]\n"
   ]
  },
  {
   "cell_type": "code",
   "execution_count": 88,
   "id": "6f4f9ed5-6cee-45a3-9d2f-b53de0247ec7",
   "metadata": {},
   "outputs": [
    {
     "name": "stdout",
     "output_type": "stream",
     "text": [
      "Financial Analysis\n",
      "----------------------------\n",
      "Total Months: 86\n",
      "Total: $22564198\n",
      "Average Change: $-8311.11\n",
      "Greatest Increase in Profits: Aug-16($1862002)\n",
      "Greatest Decrease in Profits: Feb-14($-1825558)\n"
     ]
    }
   ],
   "source": [
    "# print the result on terminal\n",
    "print(f\"Financial Analysis\")\n",
    "print(f\"----------------------------\")\n",
    "print(f\"Total Months: {total_months}\")\n",
    "print(f\"Total: ${total}\")\n",
    "print(f\"Average Change: ${average}\")\n",
    "print(f\"Greatest Increase in Profits: {increase_date}(${greatest_increase})\")\n",
    "print(f\"Greatest Decrease in Profits: {decrease_date}(${greatest_decrease})\")"
   ]
  },
  {
   "cell_type": "code",
   "execution_count": 89,
   "id": "9c9126d0-df59-4b71-8816-aa0d674c21c6",
   "metadata": {},
   "outputs": [],
   "source": [
    "# open the output file and write the result to the csv\n",
    "with open(output_file, \"w\") as text:\n",
    "    text.write(f\"Financial Analysis\\n\")\n",
    "    text.write(f\"----------------------------\\n\")\n",
    "    text.write(f\"Total Months: {total_months}\\n\")\n",
    "    text.write(f\"Total: ${total}\\n\")\n",
    "    text.write(f\"Average Change: ${average}\\n\")\n",
    "    text.write(f\"Greatest Increase in Profits: {increase_date}(${greatest_increase})\\n\")\n",
    "    text.write(f\"Greatest Decrease in Profits: {decrease_date}(${greatest_decrease})\")"
   ]
  },
  {
   "cell_type": "code",
   "execution_count": null,
   "id": "02509543-056c-4062-a42b-5988d1e06b06",
   "metadata": {},
   "outputs": [],
   "source": []
  }
 ],
 "metadata": {
  "kernelspec": {
   "display_name": "Python 3 (ipykernel)",
   "language": "python",
   "name": "python3"
  },
  "language_info": {
   "codemirror_mode": {
    "name": "ipython",
    "version": 3
   },
   "file_extension": ".py",
   "mimetype": "text/x-python",
   "name": "python",
   "nbconvert_exporter": "python",
   "pygments_lexer": "ipython3",
   "version": "3.9.13"
  }
 },
 "nbformat": 4,
 "nbformat_minor": 5
}
