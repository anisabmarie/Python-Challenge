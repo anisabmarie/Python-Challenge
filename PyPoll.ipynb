{
 "cells": [
  {
   "cell_type": "code",
   "execution_count": 3,
   "id": "33ed5e85-d41c-45a3-bc26-b9ae06397fd9",
   "metadata": {},
   "outputs": [],
   "source": [
    "import os\n",
    "import csv"
   ]
  },
  {
   "cell_type": "code",
   "execution_count": 6,
   "id": "b2d1d07b-0746-437e-8d23-1b4fa89f93bc",
   "metadata": {},
   "outputs": [],
   "source": [
    "find_path = ('/Users/anisabraun/Resources/election_data.csv')\n",
    "output_file = \"election_data.csv\""
   ]
  },
  {
   "cell_type": "code",
   "execution_count": 5,
   "id": "7485cb06-8fc0-4aea-b132-8b2bb3ab65d3",
   "metadata": {},
   "outputs": [
    {
     "ename": "FileNotFoundError",
     "evalue": "[Errno 2] No such file or directory: '/Users/anisabraun/Downloads/election_data.csv'",
     "output_type": "error",
     "traceback": [
      "\u001b[0;31m---------------------------------------------------------------------------\u001b[0m",
      "\u001b[0;31mFileNotFoundError\u001b[0m                         Traceback (most recent call last)",
      "\u001b[0;32m/var/folders/ny/4n37711161zdsgc3q1vxpv9m0000gp/T/ipykernel_91586/1913696855.py\u001b[0m in \u001b[0;36m<module>\u001b[0;34m\u001b[0m\n\u001b[0;32m----> 1\u001b[0;31m \u001b[0;32mwith\u001b[0m \u001b[0mopen\u001b[0m\u001b[0;34m(\u001b[0m\u001b[0;34m'/Users/anisabraun/Downloads/election_data.csv'\u001b[0m\u001b[0;34m)\u001b[0m \u001b[0;32mas\u001b[0m \u001b[0mcsv_file\u001b[0m\u001b[0;34m:\u001b[0m\u001b[0;34m\u001b[0m\u001b[0;34m\u001b[0m\u001b[0m\n\u001b[0m\u001b[1;32m      2\u001b[0m     \u001b[0mcsv_reader\u001b[0m \u001b[0;34m=\u001b[0m \u001b[0mcsv\u001b[0m\u001b[0;34m.\u001b[0m\u001b[0mreader\u001b[0m\u001b[0;34m(\u001b[0m\u001b[0mcsv_file\u001b[0m\u001b[0;34m,\u001b[0m \u001b[0mdelimiter\u001b[0m\u001b[0;34m=\u001b[0m\u001b[0;34m','\u001b[0m\u001b[0;34m)\u001b[0m\u001b[0;34m\u001b[0m\u001b[0;34m\u001b[0m\u001b[0m\n\u001b[1;32m      3\u001b[0m     \u001b[0mcsv_header\u001b[0m \u001b[0;34m=\u001b[0m \u001b[0mnext\u001b[0m\u001b[0;34m(\u001b[0m\u001b[0mcsv_reader\u001b[0m\u001b[0;34m)\u001b[0m\u001b[0;34m\u001b[0m\u001b[0;34m\u001b[0m\u001b[0m\n\u001b[1;32m      4\u001b[0m \u001b[0;34m\u001b[0m\u001b[0m\n\u001b[1;32m      5\u001b[0m     \u001b[0mtotal_votes\u001b[0m \u001b[0;34m=\u001b[0m \u001b[0;36m0\u001b[0m\u001b[0;34m\u001b[0m\u001b[0;34m\u001b[0m\u001b[0m\n",
      "\u001b[0;31mFileNotFoundError\u001b[0m: [Errno 2] No such file or directory: '/Users/anisabraun/Downloads/election_data.csv'"
     ]
    }
   ],
   "source": [
    "with open('/Users/anisabraun/Resources/election_data.csv') as csv_file:\n",
    "    csv_reader = csv.reader(csv_file, delimiter=',')\n",
    "    csv_header = next(csv_reader)\n",
    "    \n",
    "    total_votes = 0\n",
    "    candidates_votes = {}\n",
    "    winner_count = 0\n",
    "    \n",
    "    # Loop through looking for canditates\n",
    "    for row in csv_reader:\n",
    "\n",
    "        # The total number of votes cast\n",
    "        total_votes = total_votes + 1\n",
    "        \n",
    "        # A complete list of candidates who received votes and The total number of votes each candidate won\n",
    "        if row[2] in candidates_votes:\n",
    "            candidates_votes[row[2]] += 1\n",
    "        else:\n",
    "            candidates_votes[row[2]] = 1\n",
    "            \n",
    "        # The percentage of votes each candidate won\n",
    "        for key, velue in candidates_votes.items():\n",
    "            percent_candidates_votes[key] =round((velue/total_votes)* 100 , 3)\n",
    "        \n",
    "        # The winner of the election based on popular vote.\n",
    "            if percent_candidates_votes[key] > winner_count:\n",
    "                winner_count = candidates_votes[key]\n",
    "                winner = key\n",
    "    "
   ]
  },
  {
   "cell_type": "code",
   "execution_count": null,
   "id": "969c2496-11d5-4be5-9315-694c58f3d8ec",
   "metadata": {},
   "outputs": [],
   "source": []
  }
 ],
 "metadata": {
  "kernelspec": {
   "display_name": "Python 3 (ipykernel)",
   "language": "python",
   "name": "python3"
  },
  "language_info": {
   "codemirror_mode": {
    "name": "ipython",
    "version": 3
   },
   "file_extension": ".py",
   "mimetype": "text/x-python",
   "name": "python",
   "nbconvert_exporter": "python",
   "pygments_lexer": "ipython3",
   "version": "3.9.13"
  }
 },
 "nbformat": 4,
 "nbformat_minor": 5
}
